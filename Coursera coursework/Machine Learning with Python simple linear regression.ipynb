{
  "metadata": {
    "kernelspec": {
      "name": "python",
      "display_name": "Pyolite",
      "language": "python"
    },
    "language_info": {
      "codemirror_mode": {
        "name": "python",
        "version": 3
      },
      "file_extension": ".py",
      "mimetype": "text/x-python",
      "name": "python",
      "nbconvert_exporter": "python",
      "pygments_lexer": "ipython3",
      "version": "3.8"
    },
    "widgets": {
      "state": {},
      "version": "1.1.2"
    }
  },
  "nbformat_minor": 4,
  "nbformat": 4,
  "cells": [
    {
      "cell_type": "markdown",
      "source": "<center>\n    <img src=\"https://cf-courses-data.s3.us.cloud-object-storage.appdomain.cloud/IBMDeveloperSkillsNetwork-ML0101EN-SkillsNetwork/labs/Module%202/images/IDSNlogo.png\" width=\"300\" alt=\"cognitiveclass.ai logo\"  />\n</center>\n\n# Simple Linear Regression\n\nEstimated time needed: **15** minutes\n\n## Objectives\n\nAfter completing this lab you will be able to:\n\n*   Use scikit-learn to implement simple Linear Regression\n*   Create a model, train it, test it and use the model\n",
      "metadata": {
        "button": false,
        "new_sheet": false,
        "run_control": {
          "read_only": false
        }
      }
    },
    {
      "cell_type": "markdown",
      "source": "### Importing Needed packages\n",
      "metadata": {
        "button": false,
        "new_sheet": false,
        "run_control": {
          "read_only": false
        }
      }
    },
    {
      "cell_type": "code",
      "source": "import piplite\nawait piplite.install(['pandas'])\nawait piplite.install(['matplotlib'])\nawait piplite.install(['numpy'])\nawait piplite.install(['scikit-learn'])\n\n",
      "metadata": {
        "trusted": true
      },
      "execution_count": 1,
      "outputs": []
    },
    {
      "cell_type": "code",
      "source": "import matplotlib.pyplot as plt\nimport pandas as pd\nimport pylab as pl\nimport numpy as np\n%matplotlib inline",
      "metadata": {
        "button": false,
        "new_sheet": false,
        "run_control": {
          "read_only": false
        },
        "trusted": true
      },
      "execution_count": 2,
      "outputs": [
        {
          "name": "stderr",
          "text": "/lib/python3.9/site-packages/pandas/compat/__init__.py:124: UserWarning: Could not import the lzma module. Your installed Python is incomplete. Attempting to use lzma compression will result in a RuntimeError.\n  warnings.warn(msg)\n",
          "output_type": "stream"
        }
      ]
    },
    {
      "cell_type": "markdown",
      "source": "### Downloading Data\n\nTo download the data, we will use !wget to download it from IBM Object Storage.\n",
      "metadata": {
        "button": false,
        "new_sheet": false,
        "run_control": {
          "read_only": false
        }
      }
    },
    {
      "cell_type": "code",
      "source": "path= \"https://cf-courses-data.s3.us.cloud-object-storage.appdomain.cloud/IBMDeveloperSkillsNetwork-ML0101EN-SkillsNetwork/labs/Module%202/data/FuelConsumptionCo2.csv\"",
      "metadata": {
        "button": false,
        "new_sheet": false,
        "run_control": {
          "read_only": false
        },
        "trusted": true
      },
      "execution_count": 3,
      "outputs": []
    },
    {
      "cell_type": "code",
      "source": "from pyodide.http import pyfetch\n\nasync def download(url, filename):\n    response = await pyfetch(url)\n    if response.status == 200:\n        with open(filename, \"wb\") as f:\n            f.write(await response.bytes())\n\n",
      "metadata": {
        "trusted": true
      },
      "execution_count": 4,
      "outputs": []
    },
    {
      "cell_type": "markdown",
      "source": "**Did you know?** When it comes to Machine Learning, you will likely be working with large datasets. As a business, where can you host your data? IBM is offering a unique opportunity for businesses, with 10 Tb of IBM Cloud Object Storage: [Sign up now for free](http://cocl.us/ML0101EN-IBM-Offer-CC)\n",
      "metadata": {}
    },
    {
      "cell_type": "markdown",
      "source": "## Understanding the Data\n\n### `FuelConsumption.csv`:\n\nWe have downloaded a fuel consumption dataset, **`FuelConsumption.csv`**, which contains model-specific fuel consumption ratings and estimated carbon dioxide emissions for new light-duty vehicles for retail sale in Canada. [Dataset source](http://open.canada.ca/data/en/dataset/98f1a129-f628-4ce4-b24d-6f16bf24dd64?utm_medium=Exinfluencer&utm_source=Exinfluencer&utm_content=000026UJ&utm_term=10006555&utm_id=NA-SkillsNetwork-Channel-SkillsNetworkCoursesIBMDeveloperSkillsNetworkML0101ENSkillsNetwork20718538-2022-01-01)\n\n*   **MODELYEAR** e.g. 2014\n*   **MAKE** e.g. Acura\n*   **MODEL** e.g. ILX\n*   **VEHICLE CLASS** e.g. SUV\n*   **ENGINE SIZE** e.g. 4.7\n*   **CYLINDERS** e.g 6\n*   **TRANSMISSION** e.g. A6\n*   **FUEL CONSUMPTION in CITY(L/100 km)** e.g. 9.9\n*   **FUEL CONSUMPTION in HWY (L/100 km)** e.g. 8.9\n*   **FUEL CONSUMPTION COMB (L/100 km)** e.g. 9.2\n*   **CO2 EMISSIONS (g/km)** e.g. 182   --> low --> 0\n",
      "metadata": {
        "button": false,
        "new_sheet": false,
        "run_control": {
          "read_only": false
        }
      }
    },
    {
      "cell_type": "markdown",
      "source": "## Reading the data in\n",
      "metadata": {
        "button": false,
        "new_sheet": false,
        "run_control": {
          "read_only": false
        }
      }
    },
    {
      "cell_type": "code",
      "source": "await download(path, \"FuelConsumption.csv\")\npath=\"FuelConsumption.csv\"",
      "metadata": {
        "trusted": true
      },
      "execution_count": 5,
      "outputs": []
    },
    {
      "cell_type": "code",
      "source": "df = pd.read_csv(\"FuelConsumption.csv\")\n\n# take a look at the dataset\ndf.head()\n\n",
      "metadata": {
        "button": false,
        "new_sheet": false,
        "run_control": {
          "read_only": false
        },
        "trusted": true
      },
      "execution_count": 6,
      "outputs": [
        {
          "execution_count": 6,
          "output_type": "execute_result",
          "data": {
            "text/plain": "   MODELYEAR   MAKE       MODEL VEHICLECLASS  ENGINESIZE  CYLINDERS  \\\n0       2014  ACURA         ILX      COMPACT         2.0          4   \n1       2014  ACURA         ILX      COMPACT         2.4          4   \n2       2014  ACURA  ILX HYBRID      COMPACT         1.5          4   \n3       2014  ACURA     MDX 4WD  SUV - SMALL         3.5          6   \n4       2014  ACURA     RDX AWD  SUV - SMALL         3.5          6   \n\n  TRANSMISSION FUELTYPE  FUELCONSUMPTION_CITY  FUELCONSUMPTION_HWY  \\\n0          AS5        Z                   9.9                  6.7   \n1           M6        Z                  11.2                  7.7   \n2          AV7        Z                   6.0                  5.8   \n3          AS6        Z                  12.7                  9.1   \n4          AS6        Z                  12.1                  8.7   \n\n   FUELCONSUMPTION_COMB  FUELCONSUMPTION_COMB_MPG  CO2EMISSIONS  \n0                   8.5                        33           196  \n1                   9.6                        29           221  \n2                   5.9                        48           136  \n3                  11.1                        25           255  \n4                  10.6                        27           244  ",
            "text/html": "<div>\n<style scoped>\n    .dataframe tbody tr th:only-of-type {\n        vertical-align: middle;\n    }\n\n    .dataframe tbody tr th {\n        vertical-align: top;\n    }\n\n    .dataframe thead th {\n        text-align: right;\n    }\n</style>\n<table border=\"1\" class=\"dataframe\">\n  <thead>\n    <tr style=\"text-align: right;\">\n      <th></th>\n      <th>MODELYEAR</th>\n      <th>MAKE</th>\n      <th>MODEL</th>\n      <th>VEHICLECLASS</th>\n      <th>ENGINESIZE</th>\n      <th>CYLINDERS</th>\n      <th>TRANSMISSION</th>\n      <th>FUELTYPE</th>\n      <th>FUELCONSUMPTION_CITY</th>\n      <th>FUELCONSUMPTION_HWY</th>\n      <th>FUELCONSUMPTION_COMB</th>\n      <th>FUELCONSUMPTION_COMB_MPG</th>\n      <th>CO2EMISSIONS</th>\n    </tr>\n  </thead>\n  <tbody>\n    <tr>\n      <th>0</th>\n      <td>2014</td>\n      <td>ACURA</td>\n      <td>ILX</td>\n      <td>COMPACT</td>\n      <td>2.0</td>\n      <td>4</td>\n      <td>AS5</td>\n      <td>Z</td>\n      <td>9.9</td>\n      <td>6.7</td>\n      <td>8.5</td>\n      <td>33</td>\n      <td>196</td>\n    </tr>\n    <tr>\n      <th>1</th>\n      <td>2014</td>\n      <td>ACURA</td>\n      <td>ILX</td>\n      <td>COMPACT</td>\n      <td>2.4</td>\n      <td>4</td>\n      <td>M6</td>\n      <td>Z</td>\n      <td>11.2</td>\n      <td>7.7</td>\n      <td>9.6</td>\n      <td>29</td>\n      <td>221</td>\n    </tr>\n    <tr>\n      <th>2</th>\n      <td>2014</td>\n      <td>ACURA</td>\n      <td>ILX HYBRID</td>\n      <td>COMPACT</td>\n      <td>1.5</td>\n      <td>4</td>\n      <td>AV7</td>\n      <td>Z</td>\n      <td>6.0</td>\n      <td>5.8</td>\n      <td>5.9</td>\n      <td>48</td>\n      <td>136</td>\n    </tr>\n    <tr>\n      <th>3</th>\n      <td>2014</td>\n      <td>ACURA</td>\n      <td>MDX 4WD</td>\n      <td>SUV - SMALL</td>\n      <td>3.5</td>\n      <td>6</td>\n      <td>AS6</td>\n      <td>Z</td>\n      <td>12.7</td>\n      <td>9.1</td>\n      <td>11.1</td>\n      <td>25</td>\n      <td>255</td>\n    </tr>\n    <tr>\n      <th>4</th>\n      <td>2014</td>\n      <td>ACURA</td>\n      <td>RDX AWD</td>\n      <td>SUV - SMALL</td>\n      <td>3.5</td>\n      <td>6</td>\n      <td>AS6</td>\n      <td>Z</td>\n      <td>12.1</td>\n      <td>8.7</td>\n      <td>10.6</td>\n      <td>27</td>\n      <td>244</td>\n    </tr>\n  </tbody>\n</table>\n</div>"
          },
          "metadata": {}
        }
      ]
    },
    {
      "cell_type": "markdown",
      "source": "### Data Exploration\n\nLet's first have a descriptive exploration on our data.\n",
      "metadata": {
        "button": false,
        "new_sheet": false,
        "run_control": {
          "read_only": false
        }
      }
    },
    {
      "cell_type": "code",
      "source": "# summarize the data\ndf.describe()",
      "metadata": {
        "button": false,
        "new_sheet": false,
        "run_control": {
          "read_only": false
        },
        "trusted": true
      },
      "execution_count": 7,
      "outputs": [
        {
          "execution_count": 7,
          "output_type": "execute_result",
          "data": {
            "text/plain": "       MODELYEAR   ENGINESIZE    CYLINDERS  FUELCONSUMPTION_CITY  \\\ncount     1067.0  1067.000000  1067.000000           1067.000000   \nmean      2014.0     3.346298     5.794752             13.296532   \nstd          0.0     1.415895     1.797447              4.101253   \nmin       2014.0     1.000000     3.000000              4.600000   \n25%       2014.0     2.000000     4.000000             10.250000   \n50%       2014.0     3.400000     6.000000             12.600000   \n75%       2014.0     4.300000     8.000000             15.550000   \nmax       2014.0     8.400000    12.000000             30.200000   \n\n       FUELCONSUMPTION_HWY  FUELCONSUMPTION_COMB  FUELCONSUMPTION_COMB_MPG  \\\ncount          1067.000000           1067.000000               1067.000000   \nmean              9.474602             11.580881                 26.441425   \nstd               2.794510              3.485595                  7.468702   \nmin               4.900000              4.700000                 11.000000   \n25%               7.500000              9.000000                 21.000000   \n50%               8.800000             10.900000                 26.000000   \n75%              10.850000             13.350000                 31.000000   \nmax              20.500000             25.800000                 60.000000   \n\n       CO2EMISSIONS  \ncount   1067.000000  \nmean     256.228679  \nstd       63.372304  \nmin      108.000000  \n25%      207.000000  \n50%      251.000000  \n75%      294.000000  \nmax      488.000000  ",
            "text/html": "<div>\n<style scoped>\n    .dataframe tbody tr th:only-of-type {\n        vertical-align: middle;\n    }\n\n    .dataframe tbody tr th {\n        vertical-align: top;\n    }\n\n    .dataframe thead th {\n        text-align: right;\n    }\n</style>\n<table border=\"1\" class=\"dataframe\">\n  <thead>\n    <tr style=\"text-align: right;\">\n      <th></th>\n      <th>MODELYEAR</th>\n      <th>ENGINESIZE</th>\n      <th>CYLINDERS</th>\n      <th>FUELCONSUMPTION_CITY</th>\n      <th>FUELCONSUMPTION_HWY</th>\n      <th>FUELCONSUMPTION_COMB</th>\n      <th>FUELCONSUMPTION_COMB_MPG</th>\n      <th>CO2EMISSIONS</th>\n    </tr>\n  </thead>\n  <tbody>\n    <tr>\n      <th>count</th>\n      <td>1067.0</td>\n      <td>1067.000000</td>\n      <td>1067.000000</td>\n      <td>1067.000000</td>\n      <td>1067.000000</td>\n      <td>1067.000000</td>\n      <td>1067.000000</td>\n      <td>1067.000000</td>\n    </tr>\n    <tr>\n      <th>mean</th>\n      <td>2014.0</td>\n      <td>3.346298</td>\n      <td>5.794752</td>\n      <td>13.296532</td>\n      <td>9.474602</td>\n      <td>11.580881</td>\n      <td>26.441425</td>\n      <td>256.228679</td>\n    </tr>\n    <tr>\n      <th>std</th>\n      <td>0.0</td>\n      <td>1.415895</td>\n      <td>1.797447</td>\n      <td>4.101253</td>\n      <td>2.794510</td>\n      <td>3.485595</td>\n      <td>7.468702</td>\n      <td>63.372304</td>\n    </tr>\n    <tr>\n      <th>min</th>\n      <td>2014.0</td>\n      <td>1.000000</td>\n      <td>3.000000</td>\n      <td>4.600000</td>\n      <td>4.900000</td>\n      <td>4.700000</td>\n      <td>11.000000</td>\n      <td>108.000000</td>\n    </tr>\n    <tr>\n      <th>25%</th>\n      <td>2014.0</td>\n      <td>2.000000</td>\n      <td>4.000000</td>\n      <td>10.250000</td>\n      <td>7.500000</td>\n      <td>9.000000</td>\n      <td>21.000000</td>\n      <td>207.000000</td>\n    </tr>\n    <tr>\n      <th>50%</th>\n      <td>2014.0</td>\n      <td>3.400000</td>\n      <td>6.000000</td>\n      <td>12.600000</td>\n      <td>8.800000</td>\n      <td>10.900000</td>\n      <td>26.000000</td>\n      <td>251.000000</td>\n    </tr>\n    <tr>\n      <th>75%</th>\n      <td>2014.0</td>\n      <td>4.300000</td>\n      <td>8.000000</td>\n      <td>15.550000</td>\n      <td>10.850000</td>\n      <td>13.350000</td>\n      <td>31.000000</td>\n      <td>294.000000</td>\n    </tr>\n    <tr>\n      <th>max</th>\n      <td>2014.0</td>\n      <td>8.400000</td>\n      <td>12.000000</td>\n      <td>30.200000</td>\n      <td>20.500000</td>\n      <td>25.800000</td>\n      <td>60.000000</td>\n      <td>488.000000</td>\n    </tr>\n  </tbody>\n</table>\n</div>"
          },
          "metadata": {}
        }
      ]
    },
    {
      "cell_type": "markdown",
      "source": "Let's select some features to explore more.\n",
      "metadata": {}
    },
    {
      "cell_type": "code",
      "source": "cdf = df[['ENGINESIZE','CYLINDERS','FUELCONSUMPTION_COMB','CO2EMISSIONS']]\ncdf.head(9)",
      "metadata": {
        "button": false,
        "new_sheet": false,
        "run_control": {
          "read_only": false
        },
        "trusted": true
      },
      "execution_count": 8,
      "outputs": [
        {
          "execution_count": 8,
          "output_type": "execute_result",
          "data": {
            "text/plain": "   ENGINESIZE  CYLINDERS  FUELCONSUMPTION_COMB  CO2EMISSIONS\n0         2.0          4                   8.5           196\n1         2.4          4                   9.6           221\n2         1.5          4                   5.9           136\n3         3.5          6                  11.1           255\n4         3.5          6                  10.6           244\n5         3.5          6                  10.0           230\n6         3.5          6                  10.1           232\n7         3.7          6                  11.1           255\n8         3.7          6                  11.6           267",
            "text/html": "<div>\n<style scoped>\n    .dataframe tbody tr th:only-of-type {\n        vertical-align: middle;\n    }\n\n    .dataframe tbody tr th {\n        vertical-align: top;\n    }\n\n    .dataframe thead th {\n        text-align: right;\n    }\n</style>\n<table border=\"1\" class=\"dataframe\">\n  <thead>\n    <tr style=\"text-align: right;\">\n      <th></th>\n      <th>ENGINESIZE</th>\n      <th>CYLINDERS</th>\n      <th>FUELCONSUMPTION_COMB</th>\n      <th>CO2EMISSIONS</th>\n    </tr>\n  </thead>\n  <tbody>\n    <tr>\n      <th>0</th>\n      <td>2.0</td>\n      <td>4</td>\n      <td>8.5</td>\n      <td>196</td>\n    </tr>\n    <tr>\n      <th>1</th>\n      <td>2.4</td>\n      <td>4</td>\n      <td>9.6</td>\n      <td>221</td>\n    </tr>\n    <tr>\n      <th>2</th>\n      <td>1.5</td>\n      <td>4</td>\n      <td>5.9</td>\n      <td>136</td>\n    </tr>\n    <tr>\n      <th>3</th>\n      <td>3.5</td>\n      <td>6</td>\n      <td>11.1</td>\n      <td>255</td>\n    </tr>\n    <tr>\n      <th>4</th>\n      <td>3.5</td>\n      <td>6</td>\n      <td>10.6</td>\n      <td>244</td>\n    </tr>\n    <tr>\n      <th>5</th>\n      <td>3.5</td>\n      <td>6</td>\n      <td>10.0</td>\n      <td>230</td>\n    </tr>\n    <tr>\n      <th>6</th>\n      <td>3.5</td>\n      <td>6</td>\n      <td>10.1</td>\n      <td>232</td>\n    </tr>\n    <tr>\n      <th>7</th>\n      <td>3.7</td>\n      <td>6</td>\n      <td>11.1</td>\n      <td>255</td>\n    </tr>\n    <tr>\n      <th>8</th>\n      <td>3.7</td>\n      <td>6</td>\n      <td>11.6</td>\n      <td>267</td>\n    </tr>\n  </tbody>\n</table>\n</div>"
          },
          "metadata": {}
        }
      ]
    },
    {
      "cell_type": "markdown",
      "source": "We can plot each of these features:\n",
      "metadata": {}
    },
    {
      "cell_type": "code",
      "source": "viz = cdf[['CYLINDERS','ENGINESIZE','CO2EMISSIONS','FUELCONSUMPTION_COMB']]\nviz.hist()\nplt.show()",
      "metadata": {
        "button": false,
        "new_sheet": false,
        "run_control": {
          "read_only": false
        },
        "trusted": true
      },
      "execution_count": 9,
      "outputs": [
        {
          "output_type": "display_data",
          "data": {
            "text/plain": "<pyolite.display.Image at 0x49025c0>",
            "image/png": "[encoded data removed]"
          },
          "metadata": {}
        },
        {
          "output_type": "display_data",
          "data": {
            "text/plain": "<Figure size 432x288 with 0 Axes>"
          },
          "metadata": {}
        }
      ]
    },
    {
      "cell_type": "markdown",
      "source": "Now, let's plot each of these features against the Emission, to see how linear their relationship is:\n",
      "metadata": {}
    },
    {
      "cell_type": "code",
      "source": "plt.scatter(cdf.FUELCONSUMPTION_COMB, cdf.CO2EMISSIONS,  color='blue')\nplt.xlabel(\"FUELCONSUMPTION_COMB\")\nplt.ylabel(\"Emission\")\nplt.show()",
      "metadata": {
        "button": false,
        "new_sheet": false,
        "run_control": {
          "read_only": false
        },
        "trusted": true
      },
      "execution_count": 10,
      "outputs": [
        {
          "output_type": "display_data",
          "data": {
            "text/plain": "<pyolite.display.Image at 0x42876b0>",
            "image/png": "[encoded data removed]"
          },
          "metadata": {}
        },
        {
          "output_type": "display_data",
          "data": {
            "text/plain": "<Figure size 432x288 with 0 Axes>"
          },
          "metadata": {}
        }
      ]
    },
    {
      "cell_type": "code",
      "source": "plt.scatter(cdf.ENGINESIZE, cdf.CO2EMISSIONS,  color='blue')\nplt.xlabel(\"Engine size\")\nplt.ylabel(\"Emission\")\nplt.show()",
      "metadata": {
        "button": false,
        "new_sheet": false,
        "run_control": {
          "read_only": false
        },
        "scrolled": true,
        "trusted": true
      },
      "execution_count": 11,
      "outputs": [
        {
          "output_type": "display_data",
          "data": {
            "text/plain": "<pyolite.display.Image at 0x47dca18>",
            "image/png": "[encoded data removed]"
          },
          "metadata": {}
        },
        {
          "output_type": "display_data",
          "data": {
            "text/plain": "<Figure size 432x288 with 0 Axes>"
          },
          "metadata": {}
        }
      ]
    },
    {
      "cell_type": "markdown",
      "source": "## Practice\n\nPlot **CYLINDER** vs the Emission, to see how linear is their relationship is:\n",
      "metadata": {}
    },
    {
      "cell_type": "code",
      "source": "# write your code here\nplt.scatter(cdf.CYLINDERS, cdf.CO2EMISSIONS,  color='blue')\nplt.xlabel(\"Cylinders\")\nplt.ylabel(\"Emission\")\nplt.show()\n\n",
      "metadata": {
        "button": false,
        "new_sheet": false,
        "run_control": {
          "read_only": false
        },
        "trusted": true
      },
      "execution_count": 12,
      "outputs": [
        {
          "output_type": "display_data",
          "data": {
            "text/plain": "<pyolite.display.Image at 0x4989da0>",
            "image/png": "[encoded data removed]"
          },
          "metadata": {}
        },
        {
          "output_type": "display_data",
          "data": {
            "text/plain": "<Figure size 432x288 with 0 Axes>"
          },
          "metadata": {}
        }
      ]
    },
    {
      "cell_type": "markdown",
      "source": "<details><summary>Click here for the solution</summary>\n\n```python\nplt.scatter(cdf.CYLINDERS, cdf.CO2EMISSIONS, color='blue')\nplt.xlabel(\"Cylinders\")\nplt.ylabel(\"Emission\")\nplt.show()\n\n```\n\n</details>\n",
      "metadata": {}
    },
    {
      "cell_type": "markdown",
      "source": "#### Creating train and test dataset\n\nTrain/Test Split involves splitting the dataset into training and testing sets that are mutually exclusive. After which, you train with the training set and test with the testing set.\nThis will provide a more accurate evaluation on out-of-sample accuracy because the testing dataset is not part of the dataset that have been used to train the model. Therefore, it gives us a better understanding of how well our model generalizes on new data.\n\nThis means that we know the outcome of each data point in the testing dataset, making it great to test with! Since this data has not been used to train the model, the model has no knowledge of the outcome of these data points. So, in essence, it is truly an out-of-sample testing.\n\nLet's split our dataset into train and test sets. 80% of the entire dataset will be used for training and 20% for testing. We create a mask to select random rows using **np.random.rand()** function:\n",
      "metadata": {
        "button": false,
        "new_sheet": false,
        "run_control": {
          "read_only": false
        }
      }
    },
    {
      "cell_type": "code",
      "source": "msk = np.random.rand(len(df)) < 0.8\ntrain = cdf[msk]\ntest = cdf[~msk]",
      "metadata": {
        "button": false,
        "new_sheet": false,
        "run_control": {
          "read_only": false
        },
        "trusted": true
      },
      "execution_count": 13,
      "outputs": []
    },
    {
      "cell_type": "markdown",
      "source": "### Simple Regression Model\n\nLinear Regression fits a linear model with coefficients B = (B1, ..., Bn) to minimize the 'residual sum of squares' between the actual value y in the dataset, and the predicted value yhat using linear approximation.\n",
      "metadata": {
        "button": false,
        "new_sheet": false,
        "run_control": {
          "read_only": false
        },
        "tags": []
      }
    },
    {
      "cell_type": "markdown",
      "source": "#### Train data distribution\n",
      "metadata": {
        "button": false,
        "new_sheet": false,
        "run_control": {
          "read_only": false
        }
      }
    },
    {
      "cell_type": "code",
      "source": "plt.scatter(train.ENGINESIZE, train.CO2EMISSIONS,  color='blue')\nplt.xlabel(\"Engine size\")\nplt.ylabel(\"Emission\")\nplt.show()",
      "metadata": {
        "button": false,
        "new_sheet": false,
        "run_control": {
          "read_only": false
        },
        "trusted": true
      },
      "execution_count": 17,
      "outputs": [
        {
          "output_type": "display_data",
          "data": {
            "text/plain": "<pyolite.display.Image at 0x4b93a48>",
            "image/png": "[encoded data removed]"
          },
          "metadata": {}
        },
        {
          "output_type": "display_data",
          "data": {
            "text/plain": "<Figure size 432x288 with 0 Axes>"
          },
          "metadata": {}
        }
      ]
    },
    {
      "cell_type": "markdown",
      "source": "#### Modeling\n\nUsing sklearn package to model data.\n",
      "metadata": {
        "button": false,
        "new_sheet": false,
        "run_control": {
          "read_only": false
        }
      }
    },
    {
      "cell_type": "code",
      "source": "from sklearn import linear_model\nregr = linear_model.LinearRegression()\ntrain_x = np.asanyarray(train[['ENGINESIZE']])\ntrain_y = np.asanyarray(train[['CO2EMISSIONS']])\nregr.fit(train_x, train_y)\n# The coefficients\nprint ('Coefficients: ', regr.coef_)\nprint ('Intercept: ',regr.intercept_)",
      "metadata": {
        "button": false,
        "new_sheet": false,
        "run_control": {
          "read_only": false
        },
        "trusted": true
      },
      "execution_count": 18,
      "outputs": [
        {
          "name": "stdout",
          "text": "Coefficients:  [[38.8618088]]\nIntercept:  [126.2187223]\n",
          "output_type": "stream"
        }
      ]
    },
    {
      "cell_type": "markdown",
      "source": "As mentioned before, **Coefficient** and **Intercept** in the simple linear regression, are the parameters of the fit line.\nGiven that it is a simple linear regression, with only 2 parameters, and knowing that the parameters are the intercept and slope of the line, sklearn can estimate them directly from our data.\nNotice that all of the data must be available to traverse and calculate the parameters.\n",
      "metadata": {}
    },
    {
      "cell_type": "markdown",
      "source": "#### Plot outputs\n",
      "metadata": {
        "button": false,
        "new_sheet": false,
        "run_control": {
          "read_only": false
        }
      }
    },
    {
      "cell_type": "markdown",
      "source": "We can plot the fit line over the data:\n",
      "metadata": {}
    },
    {
      "cell_type": "code",
      "source": "plt.scatter(train.ENGINESIZE, train.CO2EMISSIONS,  color='blue')\nplt.plot(train_x, regr.coef_[0][0]*train_x + regr.intercept_[0], '-r')\nplt.xlabel(\"Engine size\")\nplt.ylabel(\"Emission\")",
      "metadata": {
        "button": false,
        "new_sheet": false,
        "run_control": {
          "read_only": false
        },
        "trusted": true
      },
      "execution_count": 19,
      "outputs": [
        {
          "execution_count": 19,
          "output_type": "execute_result",
          "data": {
            "text/plain": "Text(0, 0.5, 'Emission')"
          },
          "metadata": {}
        },
        {
          "output_type": "display_data",
          "data": {
            "text/plain": "<Figure size 432x288 with 1 Axes>",
            "image/png": "[encoded data removed]"
          },
          "metadata": {
            "needs_background": "light"
          }
        }
      ]
    },
    {
      "cell_type": "markdown",
      "source": "#### Evaluation\n\nWe compare the actual values and predicted values to calculate the accuracy of a regression model. Evaluation metrics provide a key role in the development of a model, as it provides insight to areas that require improvement.\n\nThere are different model evaluation metrics, lets use MSE here to calculate the accuracy of our model based on the test set:\n\n*   Mean Absolute Error: It is the mean of the absolute value of the errors. This is the easiest of the metrics to understand since it’s just average error.\n\n*   Mean Squared Error (MSE): Mean Squared Error (MSE) is the mean of the squared error. It’s more popular than Mean Absolute Error because the focus is geared more towards large errors. This is due to the squared term exponentially increasing larger errors in comparison to smaller ones.\n\n*   Root Mean Squared Error (RMSE).\n\n*   R-squared is not an error, but rather a popular metric to measure the performance of your regression model. It represents how close the data points are to the fitted regression line. The higher the R-squared value, the better the model fits your data. The best possible score is 1.0 and it can be negative (because the model can be arbitrarily worse).\n",
      "metadata": {
        "button": false,
        "new_sheet": false,
        "run_control": {
          "read_only": false
        }
      }
    },
    {
      "cell_type": "code",
      "source": "from sklearn.metrics import r2_score\n\ntest_x = np.asanyarray(test[['ENGINESIZE']])\ntest_y = np.asanyarray(test[['CO2EMISSIONS']])\ntest_y_ = regr.predict(test_x)\n\nprint(\"Mean absolute error: %.2f\" % np.mean(np.absolute(test_y_ - test_y)))\nprint(\"Residual sum of squares (MSE): %.2f\" % np.mean((test_y_ - test_y) ** 2))\nprint(\"R2-score: %.2f\" % r2_score(test_y , test_y_) )",
      "metadata": {
        "button": false,
        "new_sheet": false,
        "run_control": {
          "read_only": false
        },
        "scrolled": true,
        "trusted": true
      },
      "execution_count": 20,
      "outputs": [
        {
          "name": "stdout",
          "text": "Mean absolute error: 23.02\nResidual sum of squares (MSE): 908.19\nR2-score: 0.78\n",
          "output_type": "stream"
        }
      ]
    },
    {
      "cell_type": "markdown",
      "source": "## Exercise\n",
      "metadata": {}
    },
    {
      "cell_type": "markdown",
      "source": "Lets see what the evaluation metrics are if we trained a regression model using the `FUELCONSUMPTION_COMB` feature.\n\nStart by selecting `FUELCONSUMPTION_COMB` as the train_x data from the `train` dataframe, then select `FUELCONSUMPTION_COMB` as the test_x data from the `test` dataframe\n",
      "metadata": {}
    },
    {
      "cell_type": "code",
      "source": "train_x = train[[\"FUELCONSUMPTION_COMB\"]]\n\ntest_x = test[[\"FUELCONSUMPTION_COMB\"]]\n\n",
      "metadata": {
        "trusted": true
      },
      "execution_count": 21,
      "outputs": []
    },
    {
      "cell_type": "markdown",
      "source": "<details><summary>Click here for the solution</summary>\n\n```python\ntrain_x = train[[\"FUELCONSUMPTION_COMB\"]]\n\ntest_x = test[[\"FUELCONSUMPTION_COMB\"]]\n\n```\n\n</details>\n",
      "metadata": {}
    },
    {
      "cell_type": "markdown",
      "source": "Now train a Logistic Regression Model using the `train_x` you created and the `train_y` created previously\n",
      "metadata": {}
    },
    {
      "cell_type": "code",
      "source": "regr = linear_model.LinearRegression()\n\n#ADD CODE\nregr = linear_model.LinearRegression()\n\nregr.fit(train_x, train_y)",
      "metadata": {
        "trusted": true
      },
      "execution_count": 22,
      "outputs": [
        {
          "execution_count": 22,
          "output_type": "execute_result",
          "data": {
            "text/plain": "LinearRegression()"
          },
          "metadata": {}
        }
      ]
    },
    {
      "cell_type": "markdown",
      "source": "<details><summary>Click here for the solution</summary>\n\n```python\nregr = linear_model.LinearRegression()\n\nregr.fit(train_x, train_y)\n\n```\n\n</details>\n",
      "metadata": {}
    },
    {
      "cell_type": "markdown",
      "source": "Find the predictions using the model's `predict` function and the `test_x` data\n",
      "metadata": {}
    },
    {
      "cell_type": "code",
      "source": "predictions = #ADD CODE",
      "metadata": {},
      "execution_count": null,
      "outputs": []
    },
    {
      "cell_type": "markdown",
      "source": "<details><summary>Click here for the solution</summary>\n\n```python\npredictions = regr.predict(test_x)\n\n```\n\n</details>\n",
      "metadata": {}
    },
    {
      "cell_type": "markdown",
      "source": "Finally use the `predictions` and the `test_y` data and find the Mean Absolute Error value using the `np.absolute` and `np.mean` function like done previously\n",
      "metadata": {}
    },
    {
      "cell_type": "code",
      "source": "#ADD CODE\n",
      "metadata": {},
      "execution_count": null,
      "outputs": []
    },
    {
      "cell_type": "markdown",
      "source": "<details><summary>Click here for the solution</summary>\n\n```python\nprint(\"Mean Absolute Error: %.2f\" % np.mean(np.absolute(predictions - test_y)))\n\n```\n\n</details>\n",
      "metadata": {}
    },
    {
      "cell_type": "markdown",
      "source": "We can see that the MAE is much worse when we train using `ENGINESIZE` than `FUELCONSUMPTION_COMB`.\n",
      "metadata": {}
    },
    {
      "cell_type": "markdown",
      "source": "<h2>Want to learn more?</h2>\n\nIBM SPSS Modeler is a comprehensive analytics platform that has many machine learning algorithms. It has been designed to bring predictive intelligence to decisions made by individuals, by groups, by systems – by your enterprise as a whole. A free trial is available through this course, available here: <a href=\"https://www.ibm.com/analytics/spss-statistics-software?utm_medium=Exinfluencer&utm_source=Exinfluencer&utm_content=000026UJ&utm_term=10006555&utm_id=NA-SkillsNetwork-Channel-SkillsNetworkCoursesIBMDeveloperSkillsNetworkML0101ENSkillsNetwork20718538-2022-01-01\">SPSS Modeler</a>\n\nAlso, you can use Watson Studio to run these notebooks faster with bigger datasets. Watson Studio is IBM's leading cloud solution for data scientists, built by data scientists. With Jupyter notebooks, RStudio, Apache Spark and popular libraries pre-packaged in the cloud, Watson Studio enables data scientists to collaborate on their projects without having to install anything. Join the fast-growing community of Watson Studio users today with a free account at <a href=\"https://www.ibm.com/cloud/watson-studio?utm_medium=Exinfluencer&utm_source=Exinfluencer&utm_content=000026UJ&utm_term=10006555&utm_id=NA-SkillsNetwork-Channel-SkillsNetworkCoursesIBMDeveloperSkillsNetworkML0101ENSkillsNetwork20718538-2022-01-01\">Watson Studio</a>\n",
      "metadata": {
        "button": false,
        "new_sheet": false,
        "run_control": {
          "read_only": false
        }
      }
    },
    {
      "cell_type": "markdown",
      "source": "### Thank you for completing this lab!\n\n## Author\n\nSaeed Aghabozorgi\n\n### Other Contributors\n\n<a href=\"https://www.linkedin.com/in/joseph-s-50398b136/?utm_medium=Exinfluencer&utm_source=Exinfluencer&utm_content=000026UJ&utm_term=10006555&utm_id=NA-SkillsNetwork-Channel-SkillsNetworkCoursesIBMDeveloperSkillsNetworkML0101ENSkillsNetwork20718538-2022-01-01\" target=\"_blank\">Joseph Santarcangelo</a>\n\nAzim Hirjani\n\n## Change Log\n\n| Date (YYYY-MM-DD) | Version | Changed By    | Change Description                 |\n| ----------------- | ------- | ------------- | ---------------------------------- |\n| 2020-11-03        | 2.1     | Lakshmi Holla | Changed URL of the csv             |\n| 2020-08-27        | 2.0     | Lavanya       | Moved lab to course repo in GitLab |\n|                   |         |               |                                    |\n|                   |         |               |                                    |\n\n## <h3 align=\"center\"> © IBM Corporation 2020. All rights reserved. <h3/>\n",
      "metadata": {}
    }
  ]
}