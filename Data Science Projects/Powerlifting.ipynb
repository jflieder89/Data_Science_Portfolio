{
 "cells": [
  {
   "cell_type": "markdown",
   "id": "71cc88ba-1958-4ae8-83e7-57c2c2774d79",
   "metadata": {},
   "source": [
    "With this short jupyterlabs project, I'll look through some weightlifting data and identify some of the maximums lifted then connect these max's to the lifter and the meet it was achieved at."
   ]
  },
  {
   "cell_type": "markdown",
   "id": "f5f338c7-3acc-4ae4-9516-5ef07f218117",
   "metadata": {},
   "source": [
    "Since the data for this is spread over two csv files, I'll use sql (convert csv to pandas dataframe briefly then convert to sql file) in order to connect data from the two files."
   ]
  },
  {
   "cell_type": "code",
   "execution_count": 1,
   "id": "e4920e60-13da-4dba-90bc-40c8cfb187f3",
   "metadata": {
    "tags": []
   },
   "outputs": [],
   "source": [
    "import pandas as pd\n",
    "import numpy as np\n",
    "import seaborn as sns\n",
    "import sqlite3"
   ]
  },
  {
   "cell_type": "code",
   "execution_count": 2,
   "id": "9c81cccb-3771-4cb5-98fd-2c7ef4113eb4",
   "metadata": {
    "tags": []
   },
   "outputs": [],
   "source": [
    "%load_ext sql"
   ]
  },
  {
   "cell_type": "code",
   "execution_count": 3,
   "id": "fbb40f77-6c2a-4480-86a0-cebf68e78270",
   "metadata": {
    "tags": []
   },
   "outputs": [
    {
     "data": {
      "text/plain": [
       "'C:\\\\Users\\\\jflieder\\\\Desktop\\\\Code\\\\Data Science Portfolio\\\\Data Science projects'"
      ]
     },
     "execution_count": 3,
     "metadata": {},
     "output_type": "execute_result"
    }
   ],
   "source": [
    "import os\n",
    "os.getcwd()"
   ]
  },
  {
   "cell_type": "code",
   "execution_count": 4,
   "id": "404f5da2-d4a2-4acd-bb66-2ee42656490e",
   "metadata": {
    "tags": []
   },
   "outputs": [
    {
     "data": {
      "text/plain": [
       "'C:\\\\Users\\\\jflieder\\\\Desktop\\\\Code\\\\Data Science Portfolio\\\\Data Science projects'"
      ]
     },
     "execution_count": 4,
     "metadata": {},
     "output_type": "execute_result"
    }
   ],
   "source": [
    "os.chdir(r\"C:\\Users\\jflieder\\Desktop\\Code\\Data Science Portfolio\\Data Science projects\") #make sure I'm working in the same directory as the target dataset\n",
    "os.getcwd()"
   ]
  },
  {
   "cell_type": "code",
   "execution_count": 5,
   "id": "10aa60f4-5382-49f6-a646-b169a1faf982",
   "metadata": {
    "tags": []
   },
   "outputs": [],
   "source": [
    "#create a sqlite database:\n",
    "conn = sqlite3.connect(\"lifter_meets.db\")"
   ]
  },
  {
   "cell_type": "code",
   "execution_count": 6,
   "id": "148e0c2b-632f-4146-8f5b-6e88bcae7bcb",
   "metadata": {
    "tags": []
   },
   "outputs": [],
   "source": [
    "#Connect this jupyterlab to the sql database:\n",
    "%sql sqlite:///lifter_meets.db"
   ]
  },
  {
   "cell_type": "code",
   "execution_count": 7,
   "id": "666de034-05fd-4576-89ac-0ca92bb33da4",
   "metadata": {
    "tags": []
   },
   "outputs": [],
   "source": [
    "#Put the datasets in csv format into dataframe format:\n",
    "meets = pd.read_csv(\"meets.csv\")\n",
    "lifters = pd.read_csv(\"openpowerlifting.csv\")"
   ]
  },
  {
   "cell_type": "code",
   "execution_count": 8,
   "id": "7893fe72-82d0-492f-b635-96f30cab1576",
   "metadata": {
    "tags": []
   },
   "outputs": [
    {
     "data": {
      "text/html": [
       "<div>\n",
       "<style scoped>\n",
       "    .dataframe tbody tr th:only-of-type {\n",
       "        vertical-align: middle;\n",
       "    }\n",
       "\n",
       "    .dataframe tbody tr th {\n",
       "        vertical-align: top;\n",
       "    }\n",
       "\n",
       "    .dataframe thead th {\n",
       "        text-align: right;\n",
       "    }\n",
       "</style>\n",
       "<table border=\"1\" class=\"dataframe\">\n",
       "  <thead>\n",
       "    <tr style=\"text-align: right;\">\n",
       "      <th></th>\n",
       "      <th>MeetID</th>\n",
       "      <th>MeetPath</th>\n",
       "      <th>Federation</th>\n",
       "      <th>Date</th>\n",
       "      <th>MeetCountry</th>\n",
       "      <th>MeetState</th>\n",
       "      <th>MeetTown</th>\n",
       "      <th>MeetName</th>\n",
       "    </tr>\n",
       "  </thead>\n",
       "  <tbody>\n",
       "    <tr>\n",
       "      <th>0</th>\n",
       "      <td>0</td>\n",
       "      <td>365strong/1601</td>\n",
       "      <td>365Strong</td>\n",
       "      <td>2016-10-29</td>\n",
       "      <td>USA</td>\n",
       "      <td>NC</td>\n",
       "      <td>Charlotte</td>\n",
       "      <td>2016 Junior &amp; Senior National Powerlifting Cha...</td>\n",
       "    </tr>\n",
       "    <tr>\n",
       "      <th>1</th>\n",
       "      <td>1</td>\n",
       "      <td>365strong/1602</td>\n",
       "      <td>365Strong</td>\n",
       "      <td>2016-11-19</td>\n",
       "      <td>USA</td>\n",
       "      <td>MO</td>\n",
       "      <td>Ozark</td>\n",
       "      <td>Thanksgiving Powerlifting Classic</td>\n",
       "    </tr>\n",
       "    <tr>\n",
       "      <th>2</th>\n",
       "      <td>2</td>\n",
       "      <td>365strong/1603</td>\n",
       "      <td>365Strong</td>\n",
       "      <td>2016-07-09</td>\n",
       "      <td>USA</td>\n",
       "      <td>NC</td>\n",
       "      <td>Charlotte</td>\n",
       "      <td>Charlotte Europa Games</td>\n",
       "    </tr>\n",
       "    <tr>\n",
       "      <th>3</th>\n",
       "      <td>3</td>\n",
       "      <td>365strong/1604</td>\n",
       "      <td>365Strong</td>\n",
       "      <td>2016-06-11</td>\n",
       "      <td>USA</td>\n",
       "      <td>SC</td>\n",
       "      <td>Rock Hill</td>\n",
       "      <td>Carolina Cup Push Pull Challenge</td>\n",
       "    </tr>\n",
       "    <tr>\n",
       "      <th>4</th>\n",
       "      <td>4</td>\n",
       "      <td>365strong/1605</td>\n",
       "      <td>365Strong</td>\n",
       "      <td>2016-04-10</td>\n",
       "      <td>USA</td>\n",
       "      <td>SC</td>\n",
       "      <td>Rock Hill</td>\n",
       "      <td>Eastern USA Challenge</td>\n",
       "    </tr>\n",
       "  </tbody>\n",
       "</table>\n",
       "</div>"
      ],
      "text/plain": [
       "   MeetID        MeetPath Federation        Date MeetCountry MeetState  \\\n",
       "0       0  365strong/1601  365Strong  2016-10-29         USA        NC   \n",
       "1       1  365strong/1602  365Strong  2016-11-19         USA        MO   \n",
       "2       2  365strong/1603  365Strong  2016-07-09         USA        NC   \n",
       "3       3  365strong/1604  365Strong  2016-06-11         USA        SC   \n",
       "4       4  365strong/1605  365Strong  2016-04-10         USA        SC   \n",
       "\n",
       "    MeetTown                                           MeetName  \n",
       "0  Charlotte  2016 Junior & Senior National Powerlifting Cha...  \n",
       "1      Ozark                  Thanksgiving Powerlifting Classic  \n",
       "2  Charlotte                             Charlotte Europa Games  \n",
       "3  Rock Hill                   Carolina Cup Push Pull Challenge  \n",
       "4  Rock Hill                              Eastern USA Challenge  "
      ]
     },
     "execution_count": 8,
     "metadata": {},
     "output_type": "execute_result"
    }
   ],
   "source": [
    "#Take a look at the meets dataframe:\n",
    "meets.head()"
   ]
  },
  {
   "cell_type": "code",
   "execution_count": 9,
   "id": "65799b90-fe48-427d-9343-c232537c38f7",
   "metadata": {
    "tags": []
   },
   "outputs": [
    {
     "data": {
      "text/html": [
       "<div>\n",
       "<style scoped>\n",
       "    .dataframe tbody tr th:only-of-type {\n",
       "        vertical-align: middle;\n",
       "    }\n",
       "\n",
       "    .dataframe tbody tr th {\n",
       "        vertical-align: top;\n",
       "    }\n",
       "\n",
       "    .dataframe thead th {\n",
       "        text-align: right;\n",
       "    }\n",
       "</style>\n",
       "<table border=\"1\" class=\"dataframe\">\n",
       "  <thead>\n",
       "    <tr style=\"text-align: right;\">\n",
       "      <th></th>\n",
       "      <th>MeetID</th>\n",
       "      <th>Name</th>\n",
       "      <th>Sex</th>\n",
       "      <th>Equipment</th>\n",
       "      <th>Age</th>\n",
       "      <th>Division</th>\n",
       "      <th>BodyweightKg</th>\n",
       "      <th>WeightClassKg</th>\n",
       "      <th>Squat4Kg</th>\n",
       "      <th>BestSquatKg</th>\n",
       "      <th>Bench4Kg</th>\n",
       "      <th>BestBenchKg</th>\n",
       "      <th>Deadlift4Kg</th>\n",
       "      <th>BestDeadliftKg</th>\n",
       "      <th>TotalKg</th>\n",
       "      <th>Place</th>\n",
       "      <th>Wilks</th>\n",
       "    </tr>\n",
       "  </thead>\n",
       "  <tbody>\n",
       "    <tr>\n",
       "      <th>0</th>\n",
       "      <td>0</td>\n",
       "      <td>Angie Belk Terry</td>\n",
       "      <td>F</td>\n",
       "      <td>Wraps</td>\n",
       "      <td>47.0</td>\n",
       "      <td>Mst 45-49</td>\n",
       "      <td>59.60</td>\n",
       "      <td>60</td>\n",
       "      <td>NaN</td>\n",
       "      <td>47.63</td>\n",
       "      <td>NaN</td>\n",
       "      <td>20.41</td>\n",
       "      <td>NaN</td>\n",
       "      <td>70.31</td>\n",
       "      <td>138.35</td>\n",
       "      <td>1</td>\n",
       "      <td>155.05</td>\n",
       "    </tr>\n",
       "    <tr>\n",
       "      <th>1</th>\n",
       "      <td>0</td>\n",
       "      <td>Dawn Bogart</td>\n",
       "      <td>F</td>\n",
       "      <td>Single-ply</td>\n",
       "      <td>42.0</td>\n",
       "      <td>Mst 40-44</td>\n",
       "      <td>58.51</td>\n",
       "      <td>60</td>\n",
       "      <td>NaN</td>\n",
       "      <td>142.88</td>\n",
       "      <td>NaN</td>\n",
       "      <td>95.25</td>\n",
       "      <td>NaN</td>\n",
       "      <td>163.29</td>\n",
       "      <td>401.42</td>\n",
       "      <td>1</td>\n",
       "      <td>456.38</td>\n",
       "    </tr>\n",
       "    <tr>\n",
       "      <th>2</th>\n",
       "      <td>0</td>\n",
       "      <td>Dawn Bogart</td>\n",
       "      <td>F</td>\n",
       "      <td>Single-ply</td>\n",
       "      <td>42.0</td>\n",
       "      <td>Open Senior</td>\n",
       "      <td>58.51</td>\n",
       "      <td>60</td>\n",
       "      <td>NaN</td>\n",
       "      <td>142.88</td>\n",
       "      <td>NaN</td>\n",
       "      <td>95.25</td>\n",
       "      <td>NaN</td>\n",
       "      <td>163.29</td>\n",
       "      <td>401.42</td>\n",
       "      <td>1</td>\n",
       "      <td>456.38</td>\n",
       "    </tr>\n",
       "    <tr>\n",
       "      <th>3</th>\n",
       "      <td>0</td>\n",
       "      <td>Dawn Bogart</td>\n",
       "      <td>F</td>\n",
       "      <td>Raw</td>\n",
       "      <td>42.0</td>\n",
       "      <td>Open Senior</td>\n",
       "      <td>58.51</td>\n",
       "      <td>60</td>\n",
       "      <td>NaN</td>\n",
       "      <td>NaN</td>\n",
       "      <td>NaN</td>\n",
       "      <td>95.25</td>\n",
       "      <td>NaN</td>\n",
       "      <td>NaN</td>\n",
       "      <td>95.25</td>\n",
       "      <td>1</td>\n",
       "      <td>108.29</td>\n",
       "    </tr>\n",
       "    <tr>\n",
       "      <th>4</th>\n",
       "      <td>0</td>\n",
       "      <td>Destiny Dula</td>\n",
       "      <td>F</td>\n",
       "      <td>Raw</td>\n",
       "      <td>18.0</td>\n",
       "      <td>Teen 18-19</td>\n",
       "      <td>63.68</td>\n",
       "      <td>67.5</td>\n",
       "      <td>NaN</td>\n",
       "      <td>NaN</td>\n",
       "      <td>NaN</td>\n",
       "      <td>31.75</td>\n",
       "      <td>NaN</td>\n",
       "      <td>90.72</td>\n",
       "      <td>122.47</td>\n",
       "      <td>1</td>\n",
       "      <td>130.47</td>\n",
       "    </tr>\n",
       "  </tbody>\n",
       "</table>\n",
       "</div>"
      ],
      "text/plain": [
       "   MeetID              Name Sex   Equipment   Age     Division  BodyweightKg  \\\n",
       "0       0  Angie Belk Terry   F       Wraps  47.0    Mst 45-49         59.60   \n",
       "1       0       Dawn Bogart   F  Single-ply  42.0    Mst 40-44         58.51   \n",
       "2       0       Dawn Bogart   F  Single-ply  42.0  Open Senior         58.51   \n",
       "3       0       Dawn Bogart   F         Raw  42.0  Open Senior         58.51   \n",
       "4       0      Destiny Dula   F         Raw  18.0   Teen 18-19         63.68   \n",
       "\n",
       "  WeightClassKg  Squat4Kg  BestSquatKg  Bench4Kg  BestBenchKg  Deadlift4Kg  \\\n",
       "0            60       NaN        47.63       NaN        20.41          NaN   \n",
       "1            60       NaN       142.88       NaN        95.25          NaN   \n",
       "2            60       NaN       142.88       NaN        95.25          NaN   \n",
       "3            60       NaN          NaN       NaN        95.25          NaN   \n",
       "4          67.5       NaN          NaN       NaN        31.75          NaN   \n",
       "\n",
       "   BestDeadliftKg  TotalKg Place   Wilks  \n",
       "0           70.31   138.35     1  155.05  \n",
       "1          163.29   401.42     1  456.38  \n",
       "2          163.29   401.42     1  456.38  \n",
       "3             NaN    95.25     1  108.29  \n",
       "4           90.72   122.47     1  130.47  "
      ]
     },
     "execution_count": 9,
     "metadata": {},
     "output_type": "execute_result"
    }
   ],
   "source": [
    "#Take a look at the lifters dataframe:\n",
    "lifters.head()"
   ]
  },
  {
   "cell_type": "code",
   "execution_count": 10,
   "id": "bf046b2d-fbcb-416e-b366-902fdff68b57",
   "metadata": {
    "tags": []
   },
   "outputs": [
    {
     "data": {
      "text/plain": [
       "8482"
      ]
     },
     "execution_count": 10,
     "metadata": {},
     "output_type": "execute_result"
    }
   ],
   "source": [
    "#I left out the keyword entry of method='multi' to prevent a 'too many variables' type of error:\n",
    "meets.to_sql(\"meets\", conn, if_exists='replace', index=False)"
   ]
  },
  {
   "cell_type": "code",
   "execution_count": 11,
   "id": "e2a4fdc5-04d1-43ae-aaee-99bd58026ba6",
   "metadata": {
    "tags": []
   },
   "outputs": [
    {
     "data": {
      "text/plain": [
       "386414"
      ]
     },
     "execution_count": 11,
     "metadata": {},
     "output_type": "execute_result"
    }
   ],
   "source": [
    "lifters.to_sql(\"lifters\", conn, if_exists='replace', index=False)"
   ]
  },
  {
   "cell_type": "code",
   "execution_count": 12,
   "id": "f6e6443c-ff07-4f49-962b-0ed4cb9642ab",
   "metadata": {
    "tags": []
   },
   "outputs": [
    {
     "name": "stdout",
     "output_type": "stream",
     "text": [
      " * sqlite:///lifter_meets.db\n",
      "Done.\n"
     ]
    },
    {
     "data": {
      "text/html": [
       "<table>\n",
       "    <thead>\n",
       "        <tr>\n",
       "            <th>MeetID</th>\n",
       "            <th>MeetPath</th>\n",
       "            <th>Federation</th>\n",
       "            <th>Date</th>\n",
       "            <th>MeetCountry</th>\n",
       "            <th>MeetState</th>\n",
       "            <th>MeetTown</th>\n",
       "            <th>MeetName</th>\n",
       "        </tr>\n",
       "    </thead>\n",
       "    <tbody>\n",
       "        <tr>\n",
       "            <td>0</td>\n",
       "            <td>365strong/1601</td>\n",
       "            <td>365Strong</td>\n",
       "            <td>2016-10-29</td>\n",
       "            <td>USA</td>\n",
       "            <td>NC</td>\n",
       "            <td>Charlotte</td>\n",
       "            <td>2016 Junior &amp; Senior National Powerlifting Championships</td>\n",
       "        </tr>\n",
       "        <tr>\n",
       "            <td>1</td>\n",
       "            <td>365strong/1602</td>\n",
       "            <td>365Strong</td>\n",
       "            <td>2016-11-19</td>\n",
       "            <td>USA</td>\n",
       "            <td>MO</td>\n",
       "            <td>Ozark</td>\n",
       "            <td>Thanksgiving Powerlifting Classic</td>\n",
       "        </tr>\n",
       "        <tr>\n",
       "            <td>2</td>\n",
       "            <td>365strong/1603</td>\n",
       "            <td>365Strong</td>\n",
       "            <td>2016-07-09</td>\n",
       "            <td>USA</td>\n",
       "            <td>NC</td>\n",
       "            <td>Charlotte</td>\n",
       "            <td>Charlotte Europa Games</td>\n",
       "        </tr>\n",
       "        <tr>\n",
       "            <td>3</td>\n",
       "            <td>365strong/1604</td>\n",
       "            <td>365Strong</td>\n",
       "            <td>2016-06-11</td>\n",
       "            <td>USA</td>\n",
       "            <td>SC</td>\n",
       "            <td>Rock Hill</td>\n",
       "            <td>Carolina Cup Push Pull Challenge</td>\n",
       "        </tr>\n",
       "        <tr>\n",
       "            <td>4</td>\n",
       "            <td>365strong/1605</td>\n",
       "            <td>365Strong</td>\n",
       "            <td>2016-04-10</td>\n",
       "            <td>USA</td>\n",
       "            <td>SC</td>\n",
       "            <td>Rock Hill</td>\n",
       "            <td>Eastern USA Challenge</td>\n",
       "        </tr>\n",
       "    </tbody>\n",
       "</table>"
      ],
      "text/plain": [
       "[(0, '365strong/1601', '365Strong', '2016-10-29', 'USA', 'NC', 'Charlotte', '2016 Junior & Senior National Powerlifting Championships'),\n",
       " (1, '365strong/1602', '365Strong', '2016-11-19', 'USA', 'MO', 'Ozark', 'Thanksgiving Powerlifting Classic'),\n",
       " (2, '365strong/1603', '365Strong', '2016-07-09', 'USA', 'NC', 'Charlotte', 'Charlotte Europa Games'),\n",
       " (3, '365strong/1604', '365Strong', '2016-06-11', 'USA', 'SC', 'Rock Hill', 'Carolina Cup Push Pull Challenge'),\n",
       " (4, '365strong/1605', '365Strong', '2016-04-10', 'USA', 'SC', 'Rock Hill', 'Eastern USA Challenge')]"
      ]
     },
     "execution_count": 12,
     "metadata": {},
     "output_type": "execute_result"
    }
   ],
   "source": [
    "#take a ppek at the meets data:\n",
    "%sql select * From meets Limit 5"
   ]
  },
  {
   "cell_type": "code",
   "execution_count": 13,
   "id": "2dcf6b0c-07b7-4556-b7ce-4e74d7e82534",
   "metadata": {},
   "outputs": [
    {
     "name": "stdout",
     "output_type": "stream",
     "text": [
      " * sqlite:///lifter_meets.db\n",
      "Done.\n"
     ]
    },
    {
     "data": {
      "text/html": [
       "<table>\n",
       "    <thead>\n",
       "        <tr>\n",
       "            <th>MeetID</th>\n",
       "            <th>Name</th>\n",
       "            <th>Sex</th>\n",
       "            <th>Equipment</th>\n",
       "            <th>Age</th>\n",
       "            <th>Division</th>\n",
       "            <th>BodyweightKg</th>\n",
       "            <th>WeightClassKg</th>\n",
       "            <th>Squat4Kg</th>\n",
       "            <th>BestSquatKg</th>\n",
       "            <th>Bench4Kg</th>\n",
       "            <th>BestBenchKg</th>\n",
       "            <th>Deadlift4Kg</th>\n",
       "            <th>BestDeadliftKg</th>\n",
       "            <th>TotalKg</th>\n",
       "            <th>Place</th>\n",
       "            <th>Wilks</th>\n",
       "        </tr>\n",
       "    </thead>\n",
       "    <tbody>\n",
       "        <tr>\n",
       "            <td>0</td>\n",
       "            <td>Angie Belk Terry</td>\n",
       "            <td>F</td>\n",
       "            <td>Wraps</td>\n",
       "            <td>47.0</td>\n",
       "            <td>Mst 45-49</td>\n",
       "            <td>59.6</td>\n",
       "            <td>60</td>\n",
       "            <td>None</td>\n",
       "            <td>47.63</td>\n",
       "            <td>None</td>\n",
       "            <td>20.41</td>\n",
       "            <td>None</td>\n",
       "            <td>70.31</td>\n",
       "            <td>138.35</td>\n",
       "            <td>1</td>\n",
       "            <td>155.05</td>\n",
       "        </tr>\n",
       "        <tr>\n",
       "            <td>0</td>\n",
       "            <td>Dawn Bogart</td>\n",
       "            <td>F</td>\n",
       "            <td>Single-ply</td>\n",
       "            <td>42.0</td>\n",
       "            <td>Mst 40-44</td>\n",
       "            <td>58.51</td>\n",
       "            <td>60</td>\n",
       "            <td>None</td>\n",
       "            <td>142.88</td>\n",
       "            <td>None</td>\n",
       "            <td>95.25</td>\n",
       "            <td>None</td>\n",
       "            <td>163.29</td>\n",
       "            <td>401.42</td>\n",
       "            <td>1</td>\n",
       "            <td>456.38</td>\n",
       "        </tr>\n",
       "        <tr>\n",
       "            <td>0</td>\n",
       "            <td>Dawn Bogart</td>\n",
       "            <td>F</td>\n",
       "            <td>Single-ply</td>\n",
       "            <td>42.0</td>\n",
       "            <td>Open Senior</td>\n",
       "            <td>58.51</td>\n",
       "            <td>60</td>\n",
       "            <td>None</td>\n",
       "            <td>142.88</td>\n",
       "            <td>None</td>\n",
       "            <td>95.25</td>\n",
       "            <td>None</td>\n",
       "            <td>163.29</td>\n",
       "            <td>401.42</td>\n",
       "            <td>1</td>\n",
       "            <td>456.38</td>\n",
       "        </tr>\n",
       "        <tr>\n",
       "            <td>0</td>\n",
       "            <td>Dawn Bogart</td>\n",
       "            <td>F</td>\n",
       "            <td>Raw</td>\n",
       "            <td>42.0</td>\n",
       "            <td>Open Senior</td>\n",
       "            <td>58.51</td>\n",
       "            <td>60</td>\n",
       "            <td>None</td>\n",
       "            <td>None</td>\n",
       "            <td>None</td>\n",
       "            <td>95.25</td>\n",
       "            <td>None</td>\n",
       "            <td>None</td>\n",
       "            <td>95.25</td>\n",
       "            <td>1</td>\n",
       "            <td>108.29</td>\n",
       "        </tr>\n",
       "        <tr>\n",
       "            <td>0</td>\n",
       "            <td>Destiny Dula</td>\n",
       "            <td>F</td>\n",
       "            <td>Raw</td>\n",
       "            <td>18.0</td>\n",
       "            <td>Teen 18-19</td>\n",
       "            <td>63.68</td>\n",
       "            <td>67.5</td>\n",
       "            <td>None</td>\n",
       "            <td>None</td>\n",
       "            <td>None</td>\n",
       "            <td>31.75</td>\n",
       "            <td>None</td>\n",
       "            <td>90.72</td>\n",
       "            <td>122.47</td>\n",
       "            <td>1</td>\n",
       "            <td>130.47</td>\n",
       "        </tr>\n",
       "    </tbody>\n",
       "</table>"
      ],
      "text/plain": [
       "[(0, 'Angie Belk Terry', 'F', 'Wraps', 47.0, 'Mst 45-49', 59.6, '60', None, 47.63, None, 20.41, None, 70.31, 138.35, '1', 155.05),\n",
       " (0, 'Dawn Bogart', 'F', 'Single-ply', 42.0, 'Mst 40-44', 58.51, '60', None, 142.88, None, 95.25, None, 163.29, 401.42, '1', 456.38),\n",
       " (0, 'Dawn Bogart', 'F', 'Single-ply', 42.0, 'Open Senior', 58.51, '60', None, 142.88, None, 95.25, None, 163.29, 401.42, '1', 456.38),\n",
       " (0, 'Dawn Bogart', 'F', 'Raw', 42.0, 'Open Senior', 58.51, '60', None, None, None, 95.25, None, None, 95.25, '1', 108.29),\n",
       " (0, 'Destiny Dula', 'F', 'Raw', 18.0, 'Teen 18-19', 63.68, '67.5', None, None, None, 31.75, None, 90.72, 122.47, '1', 130.47)]"
      ]
     },
     "execution_count": 13,
     "metadata": {},
     "output_type": "execute_result"
    }
   ],
   "source": [
    "#take a ppek at the lifters data:\n",
    "%sql select * From lifters Limit 5"
   ]
  },
  {
   "cell_type": "markdown",
   "id": "5d912467-e1ff-44eb-853a-7fc1b282efb8",
   "metadata": {},
   "source": [
    "Here are the divisions with the most entries of competitors:"
   ]
  },
  {
   "cell_type": "code",
   "execution_count": 14,
   "id": "a8b5a1b6-6ca7-4acd-906d-75ad5e5f64ad",
   "metadata": {
    "tags": []
   },
   "outputs": [
    {
     "name": "stdout",
     "output_type": "stream",
     "text": [
      " * sqlite:///lifter_meets.db\n",
      "Done.\n"
     ]
    },
    {
     "data": {
      "text/html": [
       "<table>\n",
       "    <thead>\n",
       "        <tr>\n",
       "            <th>Division</th>\n",
       "            <th>Entrant_Amount</th>\n",
       "        </tr>\n",
       "    </thead>\n",
       "    <tbody>\n",
       "        <tr>\n",
       "            <td>Open</td>\n",
       "            <td>68618</td>\n",
       "        </tr>\n",
       "        <tr>\n",
       "            <td>Boys</td>\n",
       "            <td>59641</td>\n",
       "        </tr>\n",
       "        <tr>\n",
       "            <td>R-O</td>\n",
       "            <td>28667</td>\n",
       "        </tr>\n",
       "        <tr>\n",
       "            <td>None</td>\n",
       "            <td>15843</td>\n",
       "        </tr>\n",
       "        <tr>\n",
       "            <td>Amateur Open</td>\n",
       "            <td>9396</td>\n",
       "        </tr>\n",
       "        <tr>\n",
       "            <td>R-JR</td>\n",
       "            <td>7849</td>\n",
       "        </tr>\n",
       "        <tr>\n",
       "            <td>Open Men</td>\n",
       "            <td>7487</td>\n",
       "        </tr>\n",
       "        <tr>\n",
       "            <td>Junior</td>\n",
       "            <td>7391</td>\n",
       "        </tr>\n",
       "        <tr>\n",
       "            <td>Junior 19-23</td>\n",
       "            <td>6695</td>\n",
       "        </tr>\n",
       "        <tr>\n",
       "            <td>Junior 20-23</td>\n",
       "            <td>6255</td>\n",
       "        </tr>\n",
       "        <tr>\n",
       "            <td>Teen 14-18</td>\n",
       "            <td>5348</td>\n",
       "        </tr>\n",
       "        <tr>\n",
       "            <td>O</td>\n",
       "            <td>4963</td>\n",
       "        </tr>\n",
       "        <tr>\n",
       "            <td>Master 40-49</td>\n",
       "            <td>4899</td>\n",
       "        </tr>\n",
       "        <tr>\n",
       "            <td>Pro Open</td>\n",
       "            <td>4767</td>\n",
       "        </tr>\n",
       "        <tr>\n",
       "            <td>Juniors</td>\n",
       "            <td>4437</td>\n",
       "        </tr>\n",
       "        <tr>\n",
       "            <td>Master 1</td>\n",
       "            <td>3231</td>\n",
       "        </tr>\n",
       "        <tr>\n",
       "            <td>Master 50-59</td>\n",
       "            <td>2740</td>\n",
       "        </tr>\n",
       "        <tr>\n",
       "            <td>R-T3</td>\n",
       "            <td>2397</td>\n",
       "        </tr>\n",
       "        <tr>\n",
       "            <td>Sub-Junior</td>\n",
       "            <td>2289</td>\n",
       "        </tr>\n",
       "        <tr>\n",
       "            <td>Master 40-44</td>\n",
       "            <td>2248</td>\n",
       "        </tr>\n",
       "    </tbody>\n",
       "</table>"
      ],
      "text/plain": [
       "[('Open', 68618),\n",
       " ('Boys', 59641),\n",
       " ('R-O', 28667),\n",
       " (None, 15843),\n",
       " ('Amateur Open', 9396),\n",
       " ('R-JR', 7849),\n",
       " ('Open Men', 7487),\n",
       " ('Junior', 7391),\n",
       " ('Junior 19-23', 6695),\n",
       " ('Junior 20-23', 6255),\n",
       " ('Teen 14-18', 5348),\n",
       " ('O', 4963),\n",
       " ('Master 40-49', 4899),\n",
       " ('Pro Open', 4767),\n",
       " ('Juniors', 4437),\n",
       " ('Master 1', 3231),\n",
       " ('Master 50-59', 2740),\n",
       " ('R-T3', 2397),\n",
       " ('Sub-Junior', 2289),\n",
       " ('Master 40-44', 2248)]"
      ]
     },
     "execution_count": 14,
     "metadata": {},
     "output_type": "execute_result"
    }
   ],
   "source": [
    "%sql select Division, count(*) as Entrant_Amount from lifters group by Division order by count(8) desc limit 20"
   ]
  },
  {
   "cell_type": "markdown",
   "id": "f9a08312-5762-4194-98ea-f7c3a08af135",
   "metadata": {},
   "source": [
    "Next, I'll find the highest meet total by a lifter."
   ]
  },
  {
   "cell_type": "code",
   "execution_count": 15,
   "id": "93385ab4-308a-461b-9589-e119ad0eba2f",
   "metadata": {
    "tags": []
   },
   "outputs": [
    {
     "name": "stdout",
     "output_type": "stream",
     "text": [
      " * sqlite:///lifter_meets.db\n",
      "Done.\n"
     ]
    },
    {
     "data": {
      "text/html": [
       "<table>\n",
       "    <thead>\n",
       "        <tr>\n",
       "            <th>max(TotalKg)</th>\n",
       "        </tr>\n",
       "    </thead>\n",
       "    <tbody>\n",
       "        <tr>\n",
       "            <td>1365.31</td>\n",
       "        </tr>\n",
       "    </tbody>\n",
       "</table>"
      ],
      "text/plain": [
       "[(1365.31,)]"
      ]
     },
     "execution_count": 15,
     "metadata": {},
     "output_type": "execute_result"
    }
   ],
   "source": [
    "%sql select max(TotalKg) from lifters"
   ]
  },
  {
   "cell_type": "markdown",
   "id": "7ce789ee-3cfd-40d1-8559-b078a204ff1e",
   "metadata": {},
   "source": [
    "Now I'll dig into the available information about the occurrence of that highest total."
   ]
  },
  {
   "cell_type": "code",
   "execution_count": 16,
   "id": "aaf97cec-6cf5-42bb-8564-3e43b2a86efe",
   "metadata": {
    "tags": []
   },
   "outputs": [
    {
     "name": "stdout",
     "output_type": "stream",
     "text": [
      " * sqlite:///lifter_meets.db\n",
      "Done.\n"
     ]
    },
    {
     "data": {
      "text/html": [
       "<table>\n",
       "    <thead>\n",
       "        <tr>\n",
       "            <th>MeetID</th>\n",
       "            <th>Name</th>\n",
       "            <th>Sex</th>\n",
       "            <th>Equipment</th>\n",
       "            <th>Age</th>\n",
       "            <th>Division</th>\n",
       "            <th>BodyweightKg</th>\n",
       "            <th>WeightClassKg</th>\n",
       "            <th>Squat4Kg</th>\n",
       "            <th>BestSquatKg</th>\n",
       "            <th>Bench4Kg</th>\n",
       "            <th>BestBenchKg</th>\n",
       "            <th>Deadlift4Kg</th>\n",
       "            <th>BestDeadliftKg</th>\n",
       "            <th>TotalKg</th>\n",
       "            <th>Place</th>\n",
       "            <th>Wilks</th>\n",
       "        </tr>\n",
       "    </thead>\n",
       "    <tbody>\n",
       "        <tr>\n",
       "            <td>1412</td>\n",
       "            <td>Dave Hoff</td>\n",
       "            <td>M</td>\n",
       "            <td>Multi-ply</td>\n",
       "            <td>None</td>\n",
       "            <td>Pro Open</td>\n",
       "            <td>131.09</td>\n",
       "            <td>140</td>\n",
       "            <td>None</td>\n",
       "            <td>560.19</td>\n",
       "            <td>None</td>\n",
       "            <td>437.72</td>\n",
       "            <td>None</td>\n",
       "            <td>367.41</td>\n",
       "            <td>1365.31</td>\n",
       "            <td>1</td>\n",
       "            <td>771.07</td>\n",
       "        </tr>\n",
       "    </tbody>\n",
       "</table>"
      ],
      "text/plain": [
       "[(1412, 'Dave Hoff', 'M', 'Multi-ply', None, 'Pro Open', 131.09, '140', None, 560.19, None, 437.72, None, 367.41, 1365.31, '1', 771.07)]"
      ]
     },
     "execution_count": 16,
     "metadata": {},
     "output_type": "execute_result"
    }
   ],
   "source": [
    "#Get the information on the highest total (lifter name, meetid, etc.)\n",
    "%sql select * from lifters where TotalKg = ( select max(TotalKg) from lifters )"
   ]
  },
  {
   "cell_type": "markdown",
   "id": "2c40a0d6-75a6-437f-a926-8a48ed070fec",
   "metadata": {},
   "source": [
    "Now I'll find the highest Wilks achieved by a lifter then dig into the available information about the occurrence of that highest Wilks."
   ]
  },
  {
   "cell_type": "code",
   "execution_count": 17,
   "id": "ade5374b-7805-46aa-be58-7991d00fd112",
   "metadata": {
    "tags": []
   },
   "outputs": [
    {
     "name": "stdout",
     "output_type": "stream",
     "text": [
      " * sqlite:///lifter_meets.db\n",
      "Done.\n"
     ]
    },
    {
     "data": {
      "text/html": [
       "<table>\n",
       "    <thead>\n",
       "        <tr>\n",
       "            <th>max(Wilks)</th>\n",
       "        </tr>\n",
       "    </thead>\n",
       "    <tbody>\n",
       "        <tr>\n",
       "            <td>779.38</td>\n",
       "        </tr>\n",
       "    </tbody>\n",
       "</table>"
      ],
      "text/plain": [
       "[(779.38,)]"
      ]
     },
     "execution_count": 17,
     "metadata": {},
     "output_type": "execute_result"
    }
   ],
   "source": [
    "#Find the highest meet Wilks by a lifter\n",
    "%sql select max(Wilks) from lifters"
   ]
  },
  {
   "cell_type": "code",
   "execution_count": 18,
   "id": "04fdb7a8-d3c0-4da4-976f-5a2607d0c886",
   "metadata": {
    "tags": []
   },
   "outputs": [
    {
     "name": "stdout",
     "output_type": "stream",
     "text": [
      " * sqlite:///lifter_meets.db\n",
      "Done.\n"
     ]
    },
    {
     "data": {
      "text/html": [
       "<table>\n",
       "    <thead>\n",
       "        <tr>\n",
       "            <th>MeetID</th>\n",
       "            <th>Name</th>\n",
       "            <th>Sex</th>\n",
       "            <th>Equipment</th>\n",
       "            <th>Age</th>\n",
       "            <th>Division</th>\n",
       "            <th>BodyweightKg</th>\n",
       "            <th>WeightClassKg</th>\n",
       "            <th>Squat4Kg</th>\n",
       "            <th>BestSquatKg</th>\n",
       "            <th>Bench4Kg</th>\n",
       "            <th>BestBenchKg</th>\n",
       "            <th>Deadlift4Kg</th>\n",
       "            <th>BestDeadliftKg</th>\n",
       "            <th>TotalKg</th>\n",
       "            <th>Place</th>\n",
       "            <th>Wilks</th>\n",
       "        </tr>\n",
       "    </thead>\n",
       "    <tbody>\n",
       "        <tr>\n",
       "            <td>1329</td>\n",
       "            <td>Dave Hoff</td>\n",
       "            <td>M</td>\n",
       "            <td>Multi-ply</td>\n",
       "            <td>25.0</td>\n",
       "            <td>Heavyweight</td>\n",
       "            <td>122.97</td>\n",
       "            <td>125</td>\n",
       "            <td>None</td>\n",
       "            <td>548.85</td>\n",
       "            <td>None</td>\n",
       "            <td>442.25</td>\n",
       "            <td>None</td>\n",
       "            <td>371.95</td>\n",
       "            <td>1363.05</td>\n",
       "            <td>1</td>\n",
       "            <td>779.38</td>\n",
       "        </tr>\n",
       "    </tbody>\n",
       "</table>"
      ],
      "text/plain": [
       "[(1329, 'Dave Hoff', 'M', 'Multi-ply', 25.0, 'Heavyweight', 122.97, '125', None, 548.85, None, 442.25, None, 371.95, 1363.05, '1', 779.38)]"
      ]
     },
     "execution_count": 18,
     "metadata": {},
     "output_type": "execute_result"
    }
   ],
   "source": [
    "#Get the information on the highest Wilks (lifter name, meetid, etc.)\n",
    "%sql select * from lifters where Wilks = ( select max(Wilks) from lifters )"
   ]
  },
  {
   "cell_type": "markdown",
   "id": "b68e5866-3ce6-4429-9928-397b400c4df1",
   "metadata": {},
   "source": [
    "Interesting! The highest total and the highest Wilks were achieved by the ostensibly the same lifter (both with multiply equipment) at different weight classes."
   ]
  },
  {
   "cell_type": "markdown",
   "id": "3328b62a-0eba-4ab4-a74f-c7f3c9fcecf7",
   "metadata": {},
   "source": [
    "Now I'll display some of the data of the lifter on those respective days alongside the meet's name and date. I'll use %%sql instead of %sql to spread the query over multiple lines. The easiest way I found to limit the total to that of the highest in the lifters data file is to create a custom table while inner joining to it on that criteria."
   ]
  },
  {
   "cell_type": "code",
   "execution_count": 19,
   "id": "58120afc-9b9e-4dee-9eb4-97f4a4817d93",
   "metadata": {
    "tags": []
   },
   "outputs": [
    {
     "name": "stdout",
     "output_type": "stream",
     "text": [
      " * sqlite:///lifter_meets.db\n",
      "Done.\n"
     ]
    },
    {
     "data": {
      "text/html": [
       "<table>\n",
       "    <thead>\n",
       "        <tr>\n",
       "            <th>Name</th>\n",
       "            <th>Age</th>\n",
       "            <th>Division</th>\n",
       "            <th>BodyweightKg</th>\n",
       "            <th>WeightClassKg</th>\n",
       "            <th>TotalKg</th>\n",
       "            <th>MeetName</th>\n",
       "            <th>Date</th>\n",
       "        </tr>\n",
       "    </thead>\n",
       "    <tbody>\n",
       "        <tr>\n",
       "            <td>Dave Hoff</td>\n",
       "            <td>None</td>\n",
       "            <td>Pro Open</td>\n",
       "            <td>131.09</td>\n",
       "            <td>140</td>\n",
       "            <td>1365.31</td>\n",
       "            <td>Champion of Champions 2</td>\n",
       "            <td>2017-10-07</td>\n",
       "        </tr>\n",
       "    </tbody>\n",
       "</table>"
      ],
      "text/plain": [
       "[('Dave Hoff', None, 'Pro Open', 131.09, '140', 1365.31, 'Champion of Champions 2', '2017-10-07')]"
      ]
     },
     "execution_count": 19,
     "metadata": {},
     "output_type": "execute_result"
    }
   ],
   "source": [
    "%%sql select lifters.Name, lifters.Age, lifters.Division, lifters.BodyweightKg, lifters.WeightClassKg, lifters.TotalKg, meets.MeetName, meets.Date\n",
    "from lifters\n",
    "inner join meets on meets.MeetID = lifters.MeetID\n",
    "inner join (select max(TotalKg) total from lifters) custom on custom.total = lifters.TotalKg"
   ]
  },
  {
   "cell_type": "code",
   "execution_count": 20,
   "id": "caac0411-0c80-49c6-9ad1-78d46d09b210",
   "metadata": {
    "tags": []
   },
   "outputs": [
    {
     "name": "stdout",
     "output_type": "stream",
     "text": [
      " * sqlite:///lifter_meets.db\n",
      "Done.\n"
     ]
    },
    {
     "data": {
      "text/html": [
       "<table>\n",
       "    <thead>\n",
       "        <tr>\n",
       "            <th>Name</th>\n",
       "            <th>Age</th>\n",
       "            <th>Division</th>\n",
       "            <th>BodyweightKg</th>\n",
       "            <th>WeightClassKg</th>\n",
       "            <th>Wilks</th>\n",
       "            <th>MeetName</th>\n",
       "            <th>Date</th>\n",
       "        </tr>\n",
       "    </thead>\n",
       "    <tbody>\n",
       "        <tr>\n",
       "            <td>Dave Hoff</td>\n",
       "            <td>25.0</td>\n",
       "            <td>Heavyweight</td>\n",
       "            <td>122.97</td>\n",
       "            <td>125</td>\n",
       "            <td>779.38</td>\n",
       "            <td>2013 IPA Westside Invitational Pro Open Powerlifting Championships</td>\n",
       "            <td>2013-08-17</td>\n",
       "        </tr>\n",
       "    </tbody>\n",
       "</table>"
      ],
      "text/plain": [
       "[('Dave Hoff', 25.0, 'Heavyweight', 122.97, '125', 779.38, '2013 IPA Westside Invitational Pro Open Powerlifting Championships', '2013-08-17')]"
      ]
     },
     "execution_count": 20,
     "metadata": {},
     "output_type": "execute_result"
    }
   ],
   "source": [
    "%%sql select lifters.Name, lifters.Age, lifters.Division, lifters.BodyweightKg, lifters.WeightClassKg, lifters.Wilks, meets.MeetName, meets.Date\n",
    "from lifters\n",
    "inner join meets on meets.MeetID = lifters.MeetID\n",
    "inner join (select max(Wilks) total from lifters) custom on custom.total = lifters.Wilks"
   ]
  },
  {
   "cell_type": "markdown",
   "id": "4c6ec0c3-1fb4-4ad7-971b-2a5b6b3d09fa",
   "metadata": {},
   "source": [
    "Next, I'll find the same data but out of the female lifters."
   ]
  },
  {
   "cell_type": "code",
   "execution_count": 21,
   "id": "44ee04ee-a284-4c98-90d4-91a86f50ffce",
   "metadata": {
    "tags": []
   },
   "outputs": [
    {
     "name": "stdout",
     "output_type": "stream",
     "text": [
      " * sqlite:///lifter_meets.db\n",
      "Done.\n"
     ]
    },
    {
     "data": {
      "text/html": [
       "<table>\n",
       "    <thead>\n",
       "        <tr>\n",
       "            <th>max(TotalKg)</th>\n",
       "        </tr>\n",
       "    </thead>\n",
       "    <tbody>\n",
       "        <tr>\n",
       "            <td>816.47</td>\n",
       "        </tr>\n",
       "    </tbody>\n",
       "</table>"
      ],
      "text/plain": [
       "[(816.47,)]"
      ]
     },
     "execution_count": 21,
     "metadata": {},
     "output_type": "execute_result"
    }
   ],
   "source": [
    "%sql select max(TotalKg) from lifters where Sex = 'F'"
   ]
  },
  {
   "cell_type": "code",
   "execution_count": 22,
   "id": "cb021284-120f-46c3-87c0-ab0ddf210618",
   "metadata": {
    "tags": []
   },
   "outputs": [
    {
     "name": "stdout",
     "output_type": "stream",
     "text": [
      " * sqlite:///lifter_meets.db\n",
      "Done.\n"
     ]
    },
    {
     "data": {
      "text/html": [
       "<table>\n",
       "    <thead>\n",
       "        <tr>\n",
       "            <th>MeetID</th>\n",
       "            <th>Name</th>\n",
       "            <th>Sex</th>\n",
       "            <th>Equipment</th>\n",
       "            <th>Age</th>\n",
       "            <th>Division</th>\n",
       "            <th>BodyweightKg</th>\n",
       "            <th>WeightClassKg</th>\n",
       "            <th>Squat4Kg</th>\n",
       "            <th>BestSquatKg</th>\n",
       "            <th>Bench4Kg</th>\n",
       "            <th>BestBenchKg</th>\n",
       "            <th>Deadlift4Kg</th>\n",
       "            <th>BestDeadliftKg</th>\n",
       "            <th>TotalKg</th>\n",
       "            <th>Place</th>\n",
       "            <th>Wilks</th>\n",
       "        </tr>\n",
       "    </thead>\n",
       "    <tbody>\n",
       "        <tr>\n",
       "            <td>5479</td>\n",
       "            <td>Laura Phelps-Sweatt</td>\n",
       "            <td>F</td>\n",
       "            <td>Multi-ply</td>\n",
       "            <td>None</td>\n",
       "            <td>Pro</td>\n",
       "            <td>75.0</td>\n",
       "            <td>75</td>\n",
       "            <td>None</td>\n",
       "            <td>337.93</td>\n",
       "            <td>None</td>\n",
       "            <td>240.4</td>\n",
       "            <td>None</td>\n",
       "            <td>238.14</td>\n",
       "            <td>816.47</td>\n",
       "            <td>1</td>\n",
       "            <td>776.17</td>\n",
       "        </tr>\n",
       "    </tbody>\n",
       "</table>"
      ],
      "text/plain": [
       "[(5479, 'Laura Phelps-Sweatt', 'F', 'Multi-ply', None, 'Pro', 75.0, '75', None, 337.93, None, 240.4, None, 238.14, 816.47, '1', 776.17)]"
      ]
     },
     "execution_count": 22,
     "metadata": {},
     "output_type": "execute_result"
    }
   ],
   "source": [
    "#I'll need to first filter for Sex = 'F' in the first where statement to get the highest total that a female lifted, then again at the end to filter out men that lifted that same amount.\n",
    "%sql select * from lifters where TotalKg = ( select max(TotalKg) from lifters where Sex = 'F' ) and Sex = 'F'"
   ]
  },
  {
   "cell_type": "code",
   "execution_count": 23,
   "id": "9228356c-c208-41aa-8f53-7cd1f96ba6c4",
   "metadata": {
    "tags": []
   },
   "outputs": [
    {
     "name": "stdout",
     "output_type": "stream",
     "text": [
      " * sqlite:///lifter_meets.db\n",
      "Done.\n"
     ]
    },
    {
     "data": {
      "text/html": [
       "<table>\n",
       "    <thead>\n",
       "        <tr>\n",
       "            <th>max(Wilks)</th>\n",
       "        </tr>\n",
       "    </thead>\n",
       "    <tbody>\n",
       "        <tr>\n",
       "            <td>776.17</td>\n",
       "        </tr>\n",
       "    </tbody>\n",
       "</table>"
      ],
      "text/plain": [
       "[(776.17,)]"
      ]
     },
     "execution_count": 23,
     "metadata": {},
     "output_type": "execute_result"
    }
   ],
   "source": [
    "%sql select max(Wilks) from lifters where Sex = 'F'"
   ]
  },
  {
   "cell_type": "code",
   "execution_count": 24,
   "id": "3e1f9914-b148-4867-8e55-c7d68a27bc49",
   "metadata": {
    "tags": []
   },
   "outputs": [
    {
     "name": "stdout",
     "output_type": "stream",
     "text": [
      " * sqlite:///lifter_meets.db\n",
      "Done.\n"
     ]
    },
    {
     "data": {
      "text/html": [
       "<table>\n",
       "    <thead>\n",
       "        <tr>\n",
       "            <th>MeetID</th>\n",
       "            <th>Name</th>\n",
       "            <th>Sex</th>\n",
       "            <th>Equipment</th>\n",
       "            <th>Age</th>\n",
       "            <th>Division</th>\n",
       "            <th>BodyweightKg</th>\n",
       "            <th>WeightClassKg</th>\n",
       "            <th>Squat4Kg</th>\n",
       "            <th>BestSquatKg</th>\n",
       "            <th>Bench4Kg</th>\n",
       "            <th>BestBenchKg</th>\n",
       "            <th>Deadlift4Kg</th>\n",
       "            <th>BestDeadliftKg</th>\n",
       "            <th>TotalKg</th>\n",
       "            <th>Place</th>\n",
       "            <th>Wilks</th>\n",
       "        </tr>\n",
       "    </thead>\n",
       "    <tbody>\n",
       "        <tr>\n",
       "            <td>5479</td>\n",
       "            <td>Laura Phelps-Sweatt</td>\n",
       "            <td>F</td>\n",
       "            <td>Multi-ply</td>\n",
       "            <td>None</td>\n",
       "            <td>Pro</td>\n",
       "            <td>75.0</td>\n",
       "            <td>75</td>\n",
       "            <td>None</td>\n",
       "            <td>337.93</td>\n",
       "            <td>None</td>\n",
       "            <td>240.4</td>\n",
       "            <td>None</td>\n",
       "            <td>238.14</td>\n",
       "            <td>816.47</td>\n",
       "            <td>1</td>\n",
       "            <td>776.17</td>\n",
       "        </tr>\n",
       "    </tbody>\n",
       "</table>"
      ],
      "text/plain": [
       "[(5479, 'Laura Phelps-Sweatt', 'F', 'Multi-ply', None, 'Pro', 75.0, '75', None, 337.93, None, 240.4, None, 238.14, 816.47, '1', 776.17)]"
      ]
     },
     "execution_count": 24,
     "metadata": {},
     "output_type": "execute_result"
    }
   ],
   "source": [
    "%sql select * from lifters where Wilks = ( select max(Wilks) from lifters where Sex = 'F' ) and Sex = 'F'"
   ]
  },
  {
   "cell_type": "markdown",
   "id": "021743f1-2c5e-4610-8100-474f706958a1",
   "metadata": {},
   "source": [
    "So the highest female total and the highest female Wilks were achieved by the same lifter but, unlike those for the male side, they were achieved on the same meet! Here is the merging of the data for this performance, as I did previously for the male total and wilks maximums. In attempting to filter for only female lifters (since the highest overall was performed by a male), I found an easier way to find this that does not involve an inner join:"
   ]
  },
  {
   "cell_type": "code",
   "execution_count": 25,
   "id": "e8dd2311-14aa-4dd7-a9fa-506eb9d5d423",
   "metadata": {},
   "outputs": [
    {
     "name": "stdout",
     "output_type": "stream",
     "text": [
      " * sqlite:///lifter_meets.db\n",
      "Done.\n"
     ]
    },
    {
     "data": {
      "text/html": [
       "<table>\n",
       "    <thead>\n",
       "        <tr>\n",
       "            <th>Sex</th>\n",
       "            <th>Name</th>\n",
       "            <th>Age</th>\n",
       "            <th>Division</th>\n",
       "            <th>BodyweightKg</th>\n",
       "            <th>WeightClassKg</th>\n",
       "            <th>TotalKg</th>\n",
       "            <th>MeetName</th>\n",
       "            <th>Date</th>\n",
       "        </tr>\n",
       "    </thead>\n",
       "    <tbody>\n",
       "        <tr>\n",
       "            <td>F</td>\n",
       "            <td>Laura Phelps-Sweatt</td>\n",
       "            <td>None</td>\n",
       "            <td>Pro</td>\n",
       "            <td>75.0</td>\n",
       "            <td>75</td>\n",
       "            <td>816.47</td>\n",
       "            <td>2011 PowerStation Pro/Am</td>\n",
       "            <td>2011-08-20</td>\n",
       "        </tr>\n",
       "    </tbody>\n",
       "</table>"
      ],
      "text/plain": [
       "[('F', 'Laura Phelps-Sweatt', None, 'Pro', 75.0, '75', 816.47, '2011 PowerStation Pro/Am', '2011-08-20')]"
      ]
     },
     "execution_count": 25,
     "metadata": {},
     "output_type": "execute_result"
    }
   ],
   "source": [
    "%%sql select lifters.Sex, lifters.Name, lifters.Age, lifters.Division, lifters.BodyweightKg, lifters.WeightClassKg, lifters.TotalKg, meets.MeetName, meets.Date \n",
    "from lifters, meets\n",
    "where lifters.TotalKg = ( select max(TotalKg) from lifters where Sex = 'F' ) and lifters.Sex = 'F' and lifters.MeetID = meets.MeetID"
   ]
  },
  {
   "cell_type": "markdown",
   "id": "b9842b80-de6b-43e1-95db-2d099ab3fac2",
   "metadata": {},
   "source": [
    "The same could be done for each of the individual lifts. The data could also be isolated for different meets or divisions. This is just a general exploration of the data."
   ]
  }
 ],
 "metadata": {
  "kernelspec": {
   "display_name": "Python 3 (ipykernel)",
   "language": "python",
   "name": "python3"
  },
  "language_info": {
   "codemirror_mode": {
    "name": "ipython",
    "version": 3
   },
   "file_extension": ".py",
   "mimetype": "text/x-python",
   "name": "python",
   "nbconvert_exporter": "python",
   "pygments_lexer": "ipython3",
   "version": "3.10.6"
  }
 },
 "nbformat": 4,
 "nbformat_minor": 5
}
